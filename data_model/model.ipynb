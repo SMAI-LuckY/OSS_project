{
  "cells": [
    {
      "cell_type": "markdown",
      "metadata": {
        "id": "UESj5antxu2n"
      },
      "source": [
        "# 필요한 모듈 임포트"
      ]
    },
    {
      "cell_type": "code",
      "execution_count": null,
      "metadata": {
        "id": "VzL6E7OwagNQ"
      },
      "outputs": [],
      "source": [
        "import os\n",
        "import torch\n",
        "import torch.nn as nn\n",
        "import torch.optim as optim\n",
        "import matplotlib.pyplot as plt\n",
        "from torchvision import datasets, models, transforms\n",
        "from torch.utils.data import DataLoader"
      ]
    },
    {
      "cell_type": "markdown",
      "metadata": {
        "id": "TeSJvStyxxPc"
      },
      "source": [
        "# 학습, 벨리데이션 경로 및 라벨 설정"
      ]
    },
    {
      "cell_type": "code",
      "execution_count": null,
      "metadata": {
        "id": "Js1QdkrBc2L7"
      },
      "outputs": [],
      "source": [
        "dataset_dir = '/content/drive/MyDrive/KDT 3차 프로젝트/ImageFolder'"
      ]
    },
    {
      "cell_type": "code",
      "execution_count": null,
      "metadata": {
        "colab": {
          "base_uri": "https://localhost:8080/"
        },
        "id": "LfSdxAKhCV8W",
        "outputId": "0e98c423-dc4e-4f84-a8a7-73163e23398f"
      },
      "outputs": [
        {
          "name": "stdout",
          "output_type": "stream",
          "text": [
            "Mounted at /content/drive\n"
          ]
        }
      ],
      "source": [
        "from google.colab import drive\n",
        "drive.mount('/content/drive')"
      ]
    },
    {
      "cell_type": "code",
      "execution_count": null,
      "metadata": {
        "id": "c_o-lQ1KxRL5"
      },
      "outputs": [],
      "source": [
        "train_dir = os.listdir('/content/drive/MyDrive/KDT 3차 프로젝트/ImageFolder/train')\n",
        "val_dir = os.listdir('/content/drive/MyDrive/KDT 3차 프로젝트/ImageFolder/validation')"
      ]
    },
    {
      "cell_type": "code",
      "execution_count": null,
      "metadata": {
        "colab": {
          "base_uri": "https://localhost:8080/"
        },
        "id": "zZZEhuZOx4hl",
        "outputId": "73e56ed8-3c21-4cee-87ee-179f54283a86"
      },
      "outputs": [
        {
          "name": "stdout",
          "output_type": "stream",
          "text": [
            "cuda\n"
          ]
        }
      ],
      "source": [
        "# GPU사용 확인\n",
        "device = 'cuda' if torch.cuda.is_available() else 'cpu'\n",
        "print(device)"
      ]
    },
    {
      "cell_type": "markdown",
      "metadata": {
        "id": "Bk7Hevofx7Zg"
      },
      "source": [
        "# 이미지 증강 기법"
      ]
    },
    {
      "cell_type": "code",
      "execution_count": null,
      "metadata": {
        "id": "9lFd5ywXaCU8"
      },
      "outputs": [],
      "source": [
        "# 이미지 증강 기법\n",
        "# data_trainsforms\n",
        "data_trainsforms = {\n",
        "    'train': transforms.Compose([\n",
        "        transforms.ToTensor()\n",
        "    ]),\n",
        "    'validation': transforms.Compose([\n",
        "        transforms.ToTensor()\n",
        "    ])\n",
        "}"
      ]
    },
    {
      "cell_type": "code",
      "execution_count": null,
      "metadata": {
        "id": "Esj1cPHm1ASR"
      },
      "outputs": [],
      "source": [
        "def target_transforms(target):\n",
        "    return torch.FloatTensor([target])"
      ]
    },
    {
      "cell_type": "markdown",
      "metadata": {
        "id": "6onL2pBW1LS5"
      },
      "source": [
        "# 데이터셋 객체 생성"
      ]
    },
    {
      "cell_type": "code",
      "execution_count": null,
      "metadata": {
        "id": "k0wrELcR1Aqw"
      },
      "outputs": [],
      "source": [
        "# 데이터셋 객체 생성\n",
        "image_datasets = {\n",
        "    'train': datasets.ImageFolder('/content/drive/MyDrive/KDT 3차 프로젝트/ImageFolder/train', data_trainsforms['train']),\n",
        "    'validation': datasets.ImageFolder('/content/drive/MyDrive/KDT 3차 프로젝트/ImageFolder/validation', data_trainsforms['validation']),\n",
        "}"
      ]
    },
    {
      "cell_type": "markdown",
      "metadata": {
        "id": "1J6SFPLR6lpN"
      },
      "source": [
        "# 데이터 로더 생성\n"
      ]
    },
    {
      "cell_type": "code",
      "execution_count": null,
      "metadata": {
        "id": "EzQh-yAd1GsG"
      },
      "outputs": [],
      "source": [
        "dataloaders = {\n",
        "    'train': DataLoader(\n",
        "        image_datasets['train'],\n",
        "        batch_size=16,\n",
        "        shuffle=True\n",
        "    )\n",
        "    ,\n",
        "    'validation': DataLoader(\n",
        "        image_datasets['validation'],\n",
        "        batch_size=16,\n",
        "        shuffle=False\n",
        "    )\n",
        "}"
      ]
    },
    {
      "cell_type": "code",
      "execution_count": null,
      "metadata": {
        "id": "XjDpOzUx6tKx"
      },
      "outputs": [],
      "source": [
        "print(len(image_datasets['train']))\n",
        "print(len(image_datasets['validation']))"
      ]
    },
    {
      "cell_type": "code",
      "execution_count": null,
      "metadata": {
        "id": "_967wyFLrPSB"
      },
      "outputs": [],
      "source": [
        "# train 데이터 로더 확인\n",
        "imgs, labels = next(iter(dataloaders['train']))\n",
        "\n",
        "fig, axes = plt.subplots(2, 4, figsize=(20,10))\n",
        "\n",
        "for img, label,ax in zip(imgs, labels, axes.flatten()):\n",
        "    ax.imshow(img.permute(1,2,0))\n",
        "    ax.set_title(label)\n",
        "    ax.axis('off')\n",
        "\n",
        "image_datasets['train'].classes[11]"
      ]
    },
    {
      "cell_type": "code",
      "execution_count": null,
      "metadata": {
        "id": "9GPnWLcorcHn"
      },
      "outputs": [],
      "source": [
        "class ResNetCustom(nn.Module):\n",
        "    def __init__(self, num_classes=982):\n",
        "        super(ResNetCustom, self).__init__()\n",
        "        self.resnet = models.resnet50(pretrained=True)\n",
        "        self.resnet.fc = nn.Linear(2048, num_classes)\n",
        "\n",
        "    def forward(self, x):\n",
        "        x = self.resnet.conv1(x)\n",
        "        x = self.resnet.bn1(x)\n",
        "        x = self.resnet.relu(x)\n",
        "        x = self.resnet.maxpool(x)\n",
        "\n",
        "        x = self.resnet.layer1(x)\n",
        "        x = self.resnet.layer2(x)\n",
        "        x = self.resnet.layer3(x)\n",
        "        x = self.resnet.layer4(x)\n",
        "\n",
        "        x = self.resnet.avgpool(x)\n",
        "        x = torch.flatten(x, 1)\n",
        "        x = self.resnet.fc(x)\n",
        "\n",
        "        return x\n",
        "\n",
        "# 모델 생성\n",
        "model = ResNetCustom().to(device)\n",
        "\n",
        "# 모델 출력\n",
        "print(model)\n"
      ]
    },
    {
      "cell_type": "code",
      "execution_count": null,
      "metadata": {
        "id": "xjEXSXqGXnsa"
      },
      "outputs": [],
      "source": [
        "checkpoint = torch.load('/content/drive/MyDrive/KDT 3차 프로젝트/모델/아람/모델_다운/model_test.pth')\n",
        "model.load_state_dict(checkpoint)\n",
        "model.train()"
      ]
    },
    {
      "cell_type": "code",
      "execution_count": null,
      "metadata": {
        "colab": {
          "background_save": true
        },
        "id": "LgbCY4udsS-x",
        "outputId": "d510153d-a484-469e-9afa-f8c2bcd1d2d8"
      },
      "outputs": [],
      "source": [
        "epochs = 10\n",
        "optimizer = optim.Adam(model.resnet.fc.parameters(), lr=0.001)\n",
        "\n",
        "for epoch in range(epochs + 1):\n",
        "    for phase in ['train', 'validation']:\n",
        "        if phase == 'train':\n",
        "            model.train()\n",
        "        else:\n",
        "            model.eval()\n",
        "        sum_losses = 0\n",
        "        sum_accs = 0\n",
        "        for x_batch, y_batch in dataloaders[phase]:\n",
        "            x_batch, y_batch = x_batch.to(device), y_batch.to(device)\n",
        "\n",
        "            y_pred = model(x_batch).to(device)\n",
        "            loss = nn.CrossEntropyLoss()(y_pred,  y_batch)\n",
        "            if phase == 'train':\n",
        "                optimizer.zero_grad()\n",
        "                loss.backward()\n",
        "                optimizer.step()\n",
        "\n",
        "            sum_losses += loss.item()  # loss.item()을 사용하여 loss 값을 가져옵니다.\n",
        "            y_prob = nn.Softmax(1)(y_pred)\n",
        "            y_pred_index = torch.argmax(y_prob, axis=1)\n",
        "\n",
        "            acc = (y_batch == y_pred_index).float().sum() / len(y_batch) * 100\n",
        "            sum_accs += acc.item()  # acc.item()을 사용하여 acc 값을 가져옵니다.\n",
        "\n",
        "        avg_loss = sum_losses / len(dataloaders[phase])\n",
        "        avg_acc = sum_accs / len(dataloaders[phase])\n",
        "        print(f'{phase:10s}: Epoch {epoch+1:4d}/{epochs} Loss: {avg_loss:.4f} Accuracy: {avg_acc:.2f}%')\n"
      ]
    },
    {
      "cell_type": "code",
      "execution_count": null,
      "metadata": {
        "id": "5_jagyqGEAxE"
      },
      "outputs": [],
      "source": [
        "# 학습된 모델 파일  저장\n",
        "torch.save(model.state_dict(),'/content/drive/MyDrive/KDT 3차 프로젝트/모델/아람/모델_다운/model_test2.pth')"
      ]
    },
    {
      "cell_type": "code",
      "execution_count": null,
      "metadata": {
        "id": "1dRwXyA-Kbh8"
      },
      "outputs": [],
      "source": []
    }
  ],
  "metadata": {
    "accelerator": "GPU",
    "colab": {
      "gpuType": "T4",
      "provenance": []
    },
    "kernelspec": {
      "display_name": "Python 3",
      "name": "python3"
    },
    "language_info": {
      "name": "python"
    }
  },
  "nbformat": 4,
  "nbformat_minor": 0
}
